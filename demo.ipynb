{
 "cells": [
  {
   "attachments": {},
   "cell_type": "markdown",
   "metadata": {},
   "source": [
    "# The Drake Equation"
   ]
  },
  {
   "attachments": {},
   "cell_type": "markdown",
   "metadata": {},
   "source": [
    "## Intro"
   ]
  },
  {
   "attachments": {},
   "cell_type": "markdown",
   "metadata": {},
   "source": [
    "### Scientists use the Drake equation to estimate the possible number of civilizations in the galaxy currently producing electromagnetic emissions, such as radio waves. This is supposed to be a rough estimator of civilizations in the galaxy that we could have contact with."
   ]
  },
  {
   "attachments": {},
   "cell_type": "markdown",
   "metadata": {},
   "source": [
    "### The Drake equation is:"
   ]
  },
  {
   "attachments": {},
   "cell_type": "markdown",
   "metadata": {},
   "source": [
    "### $N = R^* · f_{p} · n_{e} · f_{l} · f_{i} · f_{c} · L$"
   ]
  },
  {
   "attachments": {},
   "cell_type": "markdown",
   "metadata": {},
   "source": [
    "### where:\n",
    "### $N$ = The number of civilizations in our galaxy whose electromagnetic emissions are detectable\n",
    "### $R^*$ = The average rate of star formation in the galaxy (new stars per year)\n",
    "### $f_{p}$ = The fraction of stars with planets\n",
    "### $n_{e}$ = For stars with planets, the average number of planets with an environment suitable for life\n",
    "### $f_{l}$ = The fraction of planets that develop life\n",
    "### $f_{i}$ = The fraction of life-bearing planets with intelligent, civilized life\n",
    "### $f_{c}$ = The fraction of civilizations that release detectable signs of their existence into space\n",
    "### $L$ = The length of time—in years—over which the civilizations release the detectable signals"
   ]
  },
  {
   "attachments": {},
   "cell_type": "markdown",
   "metadata": {},
   "source": [
    "## Demo"
   ]
  },
  {
   "cell_type": "code",
   "execution_count": 3,
   "metadata": {},
   "outputs": [],
   "source": [
    "from utils import galaxy_simulator, probability_of_detection"
   ]
  },
  {
   "cell_type": "code",
   "execution_count": null,
   "metadata": {},
   "outputs": [],
   "source": []
  }
 ],
 "metadata": {
  "kernelspec": {
   "display_name": "lewagon",
   "language": "python",
   "name": "python3"
  },
  "language_info": {
   "codemirror_mode": {
    "name": "ipython",
    "version": 3
   },
   "file_extension": ".py",
   "mimetype": "text/x-python",
   "name": "python",
   "nbconvert_exporter": "python",
   "pygments_lexer": "ipython3",
   "version": "3.10.6"
  },
  "orig_nbformat": 4
 },
 "nbformat": 4,
 "nbformat_minor": 2
}
